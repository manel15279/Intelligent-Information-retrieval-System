{
 "cells": [
  {
   "cell_type": "code",
   "execution_count": 79,
   "metadata": {},
   "outputs": [],
   "source": [
    "import nltk\n",
    "import os\n",
    "from nltk.corpus import stopwords\n",
    "from nltk.stem import PorterStemmer\n",
    "from nltk.stem import WordNetLemmatizer"
   ]
  },
  {
   "cell_type": "code",
   "execution_count": 80,
   "metadata": {},
   "outputs": [
    {
     "name": "stdout",
     "output_type": "stream",
     "text": [
      "showing info https://raw.githubusercontent.com/nltk/nltk_data/gh-pages/index.xml\n"
     ]
    },
    {
     "data": {
      "text/plain": [
       "True"
      ]
     },
     "execution_count": 80,
     "metadata": {},
     "output_type": "execute_result"
    }
   ],
   "source": [
    "nltk.download()"
   ]
  },
  {
   "cell_type": "code",
   "execution_count": 81,
   "metadata": {},
   "outputs": [
    {
     "name": "stdout",
     "output_type": "stream",
     "text": [
      "3\n"
     ]
    },
    {
     "data": {
      "text/plain": [
       "[\"The universe is estimated to be about 13.8 billion years old, based on observations of the cosmic microwave background radiation. This radiation is the afterglow of the Big Bang and provides us with a snapshot of the universe's early history. \\n\\nEinstein's theory of relativity, formulated in the early 20th century, revolutionized our understanding of space and time. The theory predicts phenomena such as the bending of light by gravity, the warping of space-time, and the concept of black holes.\\n\\nThe Large Hadron Collider (LHC) is one of the most advanced scientific instruments ever built. It's located near Geneva, Switzerland, and is designed to explore fundamental questions about the universe.\\n\\nMarch 14, 1879, was a significant date in the world of science, as it marked the birth of Albert Einstein.\\n\\n1.61803398875 is known as the Golden Ratio, a mathematical constant with numerous applications in art, architecture, and nature.\\n\",\n",
       " \"\\nJuly 4, 1776, is a date of great historical significance for the United States.\\n\\n12345 Main Street, Apartment #678.\\n\\nThe quick brown fox jumped over the 12 lazy dogs.\\n\\nToday's weather forecast: 75°F and sunny.\\n\",\n",
       " 'Vivamus gravida, erat id suscipit tempus, purus lorem interdum sapien, ac vehicula turpis neque eu ex.\\n\\n1, 2, 3, 4, 5, 6, 7, 8, 9, 10.\\n\\nLorem ipsum 2023-10-18.\\n\\nLorem ipsum 1.23456789.\\n\\nSed varius justo nec nunc euismod, nec sagittis sapien hendrerit.\\n\\nMauris ullamcorper leo vel turpis tincidunt, et lacinia purus pharetra.\\n\\nThe quick brown fox jumped over the lazy dogs.\\n']"
      ]
     },
     "execution_count": 81,
     "metadata": {},
     "output_type": "execute_result"
    }
   ],
   "source": [
    "texts = []\n",
    "for filename in os.listdir(os.path.abspath(\"text files\")): \n",
    "    with open(os.path.join(\"text files\", filename), \"r\", encoding=\"utf-8\") as file: #######################################################\n",
    "        text = file.read()\n",
    "        texts.append(text)\n",
    "\n",
    "print(len(texts))\n",
    "texts"
   ]
  },
  {
   "cell_type": "code",
   "execution_count": 82,
   "metadata": {},
   "outputs": [
    {
     "name": "stdout",
     "output_type": "stream",
     "text": [
      "37\n"
     ]
    },
    {
     "data": {
      "text/plain": [
       "['July',\n",
       " '4',\n",
       " '1776',\n",
       " 'is',\n",
       " 'a',\n",
       " 'date',\n",
       " 'of',\n",
       " 'great',\n",
       " 'historical',\n",
       " 'significance',\n",
       " 'for',\n",
       " 'the',\n",
       " 'United',\n",
       " 'States',\n",
       " '12345',\n",
       " 'Main',\n",
       " 'Street',\n",
       " 'Apartment',\n",
       " '678',\n",
       " 'The',\n",
       " 'quick',\n",
       " 'brown',\n",
       " 'fox',\n",
       " 'jumped',\n",
       " 'over',\n",
       " 'the',\n",
       " '12',\n",
       " 'lazy',\n",
       " 'dogs',\n",
       " 'Today',\n",
       " 's',\n",
       " 'weather',\n",
       " 'forecast',\n",
       " '75',\n",
       " 'F',\n",
       " 'and',\n",
       " 'sunny']"
      ]
     },
     "execution_count": 82,
     "metadata": {},
     "output_type": "execute_result"
    }
   ],
   "source": [
    "ExpReg = nltk.RegexpTokenizer(r'(\\b[A-Za-z.]+\\b|\\d+(?:\\.\\d+)?)')\n",
    "tokens = []\n",
    "for text in texts:\n",
    "    words = ExpReg.tokenize(text)\n",
    "    tokens.append(words)\n",
    "\n",
    "print(len(tokens[1]))\n",
    "tokens[1]"
   ]
  },
  {
   "cell_type": "code",
   "execution_count": 96,
   "metadata": {},
   "outputs": [
    {
     "name": "stdout",
     "output_type": "stream",
     "text": [
      "27\n"
     ]
    },
    {
     "data": {
      "text/plain": [
       "['July',\n",
       " '4',\n",
       " '1776',\n",
       " 'date',\n",
       " 'great',\n",
       " 'historical',\n",
       " 'significance',\n",
       " 'United',\n",
       " 'States',\n",
       " '12345',\n",
       " 'Main',\n",
       " 'Street',\n",
       " 'Apartment',\n",
       " '678',\n",
       " 'quick',\n",
       " 'brown',\n",
       " 'fox',\n",
       " 'jumped',\n",
       " '12',\n",
       " 'lazy',\n",
       " 'dogs',\n",
       " 'Today',\n",
       " 'weather',\n",
       " 'forecast',\n",
       " '75',\n",
       " 'F',\n",
       " 'sunny']"
      ]
     },
     "execution_count": 96,
     "metadata": {},
     "output_type": "execute_result"
    }
   ],
   "source": [
    "nltk_stopwords = nltk.corpus.stopwords.words('english')\n",
    "tokens_without_stopwprds = []\n",
    "for text in tokens:\n",
    "    words = [word for word in text if word.lower() not in nltk_stopwords]\n",
    "    tokens_without_stopwprds.append(words)\n",
    "print(len(tokens_without_stopwprds[1]))\n",
    "tokens_without_stopwprds[1]"
   ]
  },
  {
   "cell_type": "code",
   "execution_count": 95,
   "metadata": {},
   "outputs": [
    {
     "name": "stdout",
     "output_type": "stream",
     "text": [
      "27\n"
     ]
    },
    {
     "data": {
      "text/plain": [
       "['juli',\n",
       " '4',\n",
       " '1776',\n",
       " 'date',\n",
       " 'great',\n",
       " 'histor',\n",
       " 'signific',\n",
       " 'unit',\n",
       " 'state',\n",
       " '12345',\n",
       " 'main',\n",
       " 'street',\n",
       " 'apart',\n",
       " '678',\n",
       " 'quick',\n",
       " 'brown',\n",
       " 'fox',\n",
       " 'jump',\n",
       " '12',\n",
       " 'lazi',\n",
       " 'dog',\n",
       " 'today',\n",
       " 'weather',\n",
       " 'forecast',\n",
       " '75',\n",
       " 'f',\n",
       " 'sunni']"
      ]
     },
     "execution_count": 95,
     "metadata": {},
     "output_type": "execute_result"
    }
   ],
   "source": [
    "Porter = nltk.PorterStemmer()\n",
    "normalized_words = []\n",
    "for text in tokens_without_stopwprds:\n",
    "    words = [Porter.stem(word) for word in text]\n",
    "    normalized_words.append(words)\n",
    "\n",
    "print(len(normalized_words[1]))\n",
    "normalized_words[1]\n"
   ]
  }
 ],
 "metadata": {
  "kernelspec": {
   "display_name": "Python 3",
   "language": "python",
   "name": "python3"
  },
  "language_info": {
   "codemirror_mode": {
    "name": "ipython",
    "version": 3
   },
   "file_extension": ".py",
   "mimetype": "text/x-python",
   "name": "python",
   "nbconvert_exporter": "python",
   "pygments_lexer": "ipython3",
   "version": "3.11.1"
  }
 },
 "nbformat": 4,
 "nbformat_minor": 2
}
